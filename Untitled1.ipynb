{
 "cells": [
  {
   "cell_type": "code",
   "execution_count": 6,
   "id": "fd65fec7-caf7-4b17-9596-321f53af89de",
   "metadata": {
    "tags": []
   },
   "outputs": [
    {
     "ename": "NameError",
     "evalue": "name 'x' is not defined",
     "output_type": "error",
     "traceback": [
      "\u001b[0;31m---------------------------------------------------------------------------\u001b[0m",
      "\u001b[0;31mNameError\u001b[0m                                 Traceback (most recent call last)",
      "Cell \u001b[0;32mIn[6], line 1\u001b[0m\n\u001b[0;32m----> 1\u001b[0m \u001b[43mx\u001b[49m\u001b[38;5;241m<\u001b[39m\u001b[38;5;241m-\u001b[39m\u001b[38;5;241m2\u001b[39m\n",
      "\u001b[0;31mNameError\u001b[0m: name 'x' is not defined"
     ]
    }
   ],
   "source": [
    "x<-2"
   ]
  },
  {
   "cell_type": "code",
   "execution_count": 7,
   "id": "10c6c5b7-bd08-4601-8434-7d14a0637840",
   "metadata": {
    "tags": []
   },
   "outputs": [
    {
     "ename": "NameError",
     "evalue": "name 'x' is not defined",
     "output_type": "error",
     "traceback": [
      "\u001b[0;31m---------------------------------------------------------------------------\u001b[0m",
      "\u001b[0;31mNameError\u001b[0m                                 Traceback (most recent call last)",
      "Cell \u001b[0;32mIn[7], line 1\u001b[0m\n\u001b[0;32m----> 1\u001b[0m (\u001b[43mx\u001b[49m\u001b[38;5;241m<\u001b[39m\u001b[38;5;241m-\u001b[39m\u001b[38;5;241m2\u001b[39m)\n",
      "\u001b[0;31mNameError\u001b[0m: name 'x' is not defined"
     ]
    }
   ],
   "source": [
    "(x<-2)"
   ]
  },
  {
   "cell_type": "code",
   "execution_count": 3,
   "id": "154c4b47-5ad1-41ce-a390-0fb10f211303",
   "metadata": {
    "tags": []
   },
   "outputs": [
    {
     "data": {
      "text/html": [
       "'rat'"
      ],
      "text/latex": [
       "'rat'"
      ],
      "text/markdown": [
       "'rat'"
      ],
      "text/plain": [
       "[1] \"rat\""
      ]
     },
     "metadata": {},
     "output_type": "display_data"
    }
   ],
   "source": [
    "animals <- c(\"mouse\", \"rat\", \"dog\", \"cat\")\n",
    "animals[2]"
   ]
  },
  {
   "cell_type": "code",
   "execution_count": 3,
   "id": "fe36483c-9f0e-430c-82b0-487297902a04",
   "metadata": {
    "tags": []
   },
   "outputs": [
    {
     "ename": "NameError",
     "evalue": "name 'TriplexAligner' is not defined",
     "output_type": "error",
     "traceback": [
      "\u001b[0;31m---------------------------------------------------------------------------\u001b[0m",
      "\u001b[0;31mNameError\u001b[0m                                 Traceback (most recent call last)",
      "Cell \u001b[0;32mIn[3], line 1\u001b[0m\n\u001b[0;32m----> 1\u001b[0m \u001b[43mTriplexAligner\u001b[49m()\n",
      "\u001b[0;31mNameError\u001b[0m: name 'TriplexAligner' is not defined"
     ]
    }
   ],
   "source": [
    "TriplexAligner()"
   ]
  },
  {
   "cell_type": "code",
   "execution_count": null,
   "id": "b169dab9-dd61-48da-aa6a-f93dc7aec8a4",
   "metadata": {},
   "outputs": [],
   "source": []
  }
 ],
 "metadata": {
  "kernelspec": {
   "display_name": ".conda-triplex",
   "language": "python",
   "name": "conda-env-.conda-triplex-py"
  },
  "language_info": {
   "codemirror_mode": {
    "name": "ipython",
    "version": 3
   },
   "file_extension": ".py",
   "mimetype": "text/x-python",
   "name": "python",
   "nbconvert_exporter": "python",
   "pygments_lexer": "ipython3",
   "version": "3.11.9"
  }
 },
 "nbformat": 4,
 "nbformat_minor": 5
}
